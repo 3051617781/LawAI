{
 "cells": [
  {
   "cell_type": "code",
   "id": "initial_id",
   "metadata": {
    "collapsed": true,
    "ExecuteTime": {
     "end_time": "2024-10-02T10:28:16.253413Z",
     "start_time": "2024-10-02T10:28:16.248906Z"
    }
   },
   "source": [
    "import requests\n",
    "import time \n",
    "import random\n",
    "import json\n",
    "\n",
    "HEADERS = {\n",
    "    \"Cookie\": \"\",\n",
    "    \"User-Agent\": \"\",\n",
    "    'Content-Type': 'application/json'\n",
    "}\n",
    "\n",
    "URL = 'https://rmfyalk.court.gov.cn/cpws_al_api/api/cpwsAl/search'\n",
    "URL2 = 'https://rmfyalk.court.gov.cn/cpws_al_api/api/cpwsAl/content'"
   ],
   "outputs": [],
   "execution_count": 10
  },
  {
   "metadata": {},
   "cell_type": "code",
   "source": [
    "all_data = []\n",
    "\n",
    "for page in range(1,15):  # 循环30次，从第1页到第30页\n",
    "    page_res = []\n",
    "    payload = {\n",
    "        \"page\": page,\n",
    "        \"size\": 50,\n",
    "        \"lib\": \"qb\",\n",
    "        \"searchParams\": {\n",
    "            \"userSearchType\": 1,\n",
    "            \"isAdvSearch\": \"0\",\n",
    "            \"selectValue\": \"qw\",\n",
    "            \"lib\": \"cpwsAl_qb\",\n",
    "            \"sort_field\": \"\",\n",
    "            \"case_sort_id_cpwsAl\": \"01\"\n",
    "        }\n",
    "    }\n",
    "    \n",
    "    # 一级页面\n",
    "    response = requests.post(url=URL, json=payload, headers=HEADERS)\n",
    "    \n",
    "    if response.status_code != 200:\n",
    "        print(f\"Failed to retrieve data on page {page}, status code: {response.status_code}\")\n",
    "        break\n",
    "    print(f'=====[success craw page]: {page}=====')\n",
    "    \n",
    "    # 二级页面\n",
    "    for item in json.loads(response.text)['data']['datas']:\n",
    "        \n",
    "        payload = {\n",
    "            \"gid\":item['id']\n",
    "        }\n",
    "        \n",
    "        response = requests.get(url=URL2, json=payload, headers=HEADERS)\n",
    "        if response.status_code != 200:\n",
    "            print(f\"[error][page:{page}][id:{item['id']}], status code: {response.status_code}\")\n",
    "            break\n",
    "        print(f\"[success craw content]: page{page}[id:{item['id']}], status code: {response.status_code}\")\n",
    "        \n",
    "        json_response = json.loads(response.text)['data']['data']\n",
    "        res = {\n",
    "            \"案例\": json_response['cpws_al_title'],\n",
    "            \"关键词\":json_response['cpws_al_keyword'],\n",
    "            \"裁判要点\": json_response['cpws_al_cpyz'],\n",
    "            \"基本案情\": json_response.get('cpws_jbaq',''),\n",
    "            \"裁判结果\":json_response.get('cpws_cpjg',''),\n",
    "            \"裁判理由\": json_response.get('cpws_cply',''),\n",
    "        }\n",
    "        page_res.append(res)\n",
    "        time.sleep(random.randint(2, 5))\n",
    "        \n",
    "\n",
    "    # 将当前数据写入\n",
    "    with open(f\"d:/desktop/craw/craw_page_{page}.json\", \"w\") as file:\n",
    "        json_res = json.dumps(page_res, ensure_ascii=False, indent=4)\n",
    "        file.write(json_res)\n",
    "    \n",
    "\n",
    "    "
   ],
   "id": "30bdd4e2cf218231",
   "outputs": [],
   "execution_count": null
  },
  {
   "metadata": {},
   "cell_type": "code",
   "outputs": [],
   "execution_count": null,
   "source": "",
   "id": "8105f0e4ffdb40e"
  }
 ],
 "metadata": {
  "kernelspec": {
   "display_name": "Python 3",
   "language": "python",
   "name": "python3"
  },
  "language_info": {
   "codemirror_mode": {
    "name": "ipython",
    "version": 2
   },
   "file_extension": ".py",
   "mimetype": "text/x-python",
   "name": "python",
   "nbconvert_exporter": "python",
   "pygments_lexer": "ipython2",
   "version": "2.7.6"
  }
 },
 "nbformat": 4,
 "nbformat_minor": 5
}
